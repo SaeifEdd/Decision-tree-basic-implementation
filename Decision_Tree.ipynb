{
 "cells": [
  {
   "cell_type": "code",
   "execution_count": 1,
   "id": "25851a48",
   "metadata": {},
   "outputs": [],
   "source": [
    "import numpy as np\n",
    "import pandas as pd\n",
    "import matplotlib.pyplot as plt"
   ]
  },
  {
   "cell_type": "code",
   "execution_count": 2,
   "id": "7228283a",
   "metadata": {},
   "outputs": [],
   "source": [
    "#single node of the tree\n",
    "class Node:\n",
    "    def __init__(self, feature = None, threshold = None, left_node = None, right_node = None, label = None):\n",
    "        #define optional parameters\n",
    "        self.feature = feature\n",
    "        self.threshold = threshold\n",
    "        self.left_node = left_node\n",
    "        self.right_node = right_node\n",
    "        self.label = label\n",
    "        \n",
    "    #check if a node is a leaf     \n",
    "    def is_leaf(self):\n",
    "        return self.label is not None"
   ]
  },
  {
   "cell_type": "code",
   "execution_count": 14,
   "id": "5fcb6a92",
   "metadata": {},
   "outputs": [],
   "source": [
    "class D_tree:\n",
    "    def __init__(self, max_depth = 10, min_samples_split= 2):\n",
    "        self.max_depth = max_depth\n",
    "        self.min_samples_split = min_samples_split\n",
    "        self.root = None\n",
    "    \n",
    "    #check if we reached the defined limits\n",
    "    def is_done(self, y, depth):\n",
    "        \n",
    "        if (depth >= self.max_depth\n",
    "            or len(y) <= self.min_samples_split\n",
    "            or len(np.unique(y)) == 1):\n",
    "            return True\n",
    "        \n",
    "        return False\n",
    "    \n",
    "    #calculate the Enthropy in a node\n",
    "    def entropy(self, y):\n",
    "        #proportions of the classes\n",
    "        p = np.bincount(y)/len(y)\n",
    "        ent = -np.sum([r*np.log(r) for r in p if r > 0])\n",
    "        return ent\n",
    "    \n",
    "    def split(self, X, thresh):\n",
    "        #find the indexes of the left and right childs\n",
    "        left_idx = np.argwhere(X <= thresh).flatten()\n",
    "        right_idx = np.argwhere(X > thresh).flatten()\n",
    "        \n",
    "        return left_idx, right_idx\n",
    "    \n",
    "    def info_gain(self, X, y, thresh):\n",
    "        \n",
    "        left, right = self.split(X, thresh)\n",
    "        p = len(y)\n",
    "        l = len(left)\n",
    "        r = len(right)\n",
    "        parent = self.entropy(y)\n",
    "        left_child = (l/p)*self.entropy(y[left])\n",
    "        right_child = (r/p)*self.entropy(y[right])\n",
    "        \n",
    "        return parent - left_child - right_child\n",
    "        \n",
    "    def best_split(self, X, y):\n",
    "        \n",
    "        best_combination = {\"gain\": -1, \n",
    "                           \"best_feat\" : None, \n",
    "                           \"best_thresh\": None}\n",
    "        #loop through features\n",
    "        for f in range(X.shape[1]):\n",
    "            x_feat = X[:,f]\n",
    "            threshs = np.unique(x_feat)\n",
    "            #loop through possible threshold\n",
    "            for t in threshs:\n",
    "                gain = self.info_gain(x_feat, y, t)\n",
    "                #check the improvment of the information gain\n",
    "                if gain > best_combination[\"gain\"]:\n",
    "                    best_combination[\"gain\"] = gain\n",
    "                    best_combination[\"best_feat\"] = f\n",
    "                    best_combination[\"best_thresh\"] = t\n",
    "                    \n",
    "        return best_combination[\"best_feat\"], best_combination[\"best_thresh\"]  \n",
    "    \n",
    "    #building the tree\n",
    "    def build_tree(self, X, y, depth = 0):\n",
    "        \n",
    "        #if we rach the limits return the leaf node\n",
    "        if self.is_done(y, depth):\n",
    "            label = np.argmax(np.bincount(y))\n",
    "            return Node(label = label)\n",
    "        \n",
    "        #find the best split\n",
    "        best_feat, best_thresh = self.best_split(X, y)\n",
    "        \n",
    "        left, right = self.split(X[:,best_feat], best_thresh)\n",
    "        left_child = self.build_tree(X[left,:], y[left], depth + 1)\n",
    "        right_child = self.build_tree(X[right,:], y[right], depth + 1)\n",
    "        \n",
    "        return Node(best_feat, best_thresh, left_child, right_child)\n",
    "    \n",
    "    def fit(self, X, y):\n",
    "        self.root = self.build_tree(X, y, depth = 0)\n",
    "    \n",
    "    #find the path for an element\n",
    "    def traverse_tree(self, x, node):\n",
    "        \n",
    "        if node.is_leaf():\n",
    "            return node.label\n",
    "        \n",
    "        val = x[node.feature]\n",
    "        \n",
    "        if val <= node.threshold:\n",
    "            return self.traverse_tree(x, node.left_node)\n",
    "        else:\n",
    "            return self.traverse_tree(x, node.right_node)\n",
    "        \n",
    "            \n",
    "    \n",
    "    def predict(self, X):\n",
    "        return np.array([self.traverse_tree(e, self.root) for e in X])\n",
    "    \n",
    "    "
   ]
  },
  {
   "cell_type": "code",
   "execution_count": 15,
   "id": "bda7698c",
   "metadata": {},
   "outputs": [],
   "source": [
    "from sklearn.datasets import load_iris\n",
    "\n",
    "iris = load_iris()\n",
    "\n",
    "X = iris['data']\n",
    "y = iris['target']"
   ]
  },
  {
   "cell_type": "code",
   "execution_count": 16,
   "id": "5c20fedd",
   "metadata": {},
   "outputs": [],
   "source": [
    "from sklearn.model_selection import train_test_split\n",
    "\n",
    "X_train, X_test, y_train, y_test = train_test_split(X, y, test_size=0.2, random_state=42)"
   ]
  },
  {
   "cell_type": "code",
   "execution_count": 17,
   "id": "7f7a8944",
   "metadata": {},
   "outputs": [],
   "source": [
    "model = D_tree()\n",
    "model.fit(X_train, y_train)\n",
    "preds = model.predict(X_test)"
   ]
  },
  {
   "cell_type": "code",
   "execution_count": 18,
   "id": "3682eadf",
   "metadata": {},
   "outputs": [
    {
     "name": "stdout",
     "output_type": "stream",
     "text": [
      "accuracy of the model :  1.0\n"
     ]
    }
   ],
   "source": [
    "def accuracy(y_pred, y_true):\n",
    "    acc = np.sum(y_pred == y_true)/len(y_true)\n",
    "    return acc\n",
    "\n",
    "print(\"accuracy of the model : \", accuracy(preds, y_test))"
   ]
  },
  {
   "cell_type": "code",
   "execution_count": null,
   "id": "fc4247b6",
   "metadata": {},
   "outputs": [],
   "source": []
  }
 ],
 "metadata": {
  "kernelspec": {
   "display_name": "Python 3 (ipykernel)",
   "language": "python",
   "name": "python3"
  },
  "language_info": {
   "codemirror_mode": {
    "name": "ipython",
    "version": 3
   },
   "file_extension": ".py",
   "mimetype": "text/x-python",
   "name": "python",
   "nbconvert_exporter": "python",
   "pygments_lexer": "ipython3",
   "version": "3.9.13"
  }
 },
 "nbformat": 4,
 "nbformat_minor": 5
}
